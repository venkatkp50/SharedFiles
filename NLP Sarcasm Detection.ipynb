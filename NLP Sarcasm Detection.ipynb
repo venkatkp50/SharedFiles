{
 "cells": [
  {
   "cell_type": "code",
   "execution_count": 48,
   "id": "73d2340f",
   "metadata": {},
   "outputs": [
    {
     "name": "stdout",
     "output_type": "stream",
     "text": [
      "Requirement already satisfied: transformers in c:\\users\\venkat k pillai\\anaconda3\\lib\\site-packages (4.21.1)\n",
      "Requirement already satisfied: huggingface-hub<1.0,>=0.1.0 in c:\\users\\venkat k pillai\\anaconda3\\lib\\site-packages (from transformers) (0.8.1)\n",
      "Requirement already satisfied: requests in c:\\users\\venkat k pillai\\anaconda3\\lib\\site-packages (from transformers) (2.25.1)\n",
      "Requirement already satisfied: numpy>=1.17 in c:\\users\\venkat k pillai\\anaconda3\\lib\\site-packages (from transformers) (1.20.1)\n",
      "Requirement already satisfied: filelock in c:\\users\\venkat k pillai\\anaconda3\\lib\\site-packages (from transformers) (3.4.0)\n",
      "Requirement already satisfied: tqdm>=4.27 in c:\\users\\venkat k pillai\\anaconda3\\lib\\site-packages (from transformers) (4.59.0)\n",
      "Requirement already satisfied: pyyaml>=5.1 in c:\\users\\venkat k pillai\\anaconda3\\lib\\site-packages (from transformers) (5.4.1)\n",
      "Requirement already satisfied: packaging>=20.0 in c:\\users\\venkat k pillai\\anaconda3\\lib\\site-packages (from transformers) (20.9)\n",
      "Requirement already satisfied: regex!=2019.12.17 in c:\\users\\venkat k pillai\\anaconda3\\lib\\site-packages (from transformers) (2021.4.4)\n",
      "Requirement already satisfied: tokenizers!=0.11.3,<0.13,>=0.11.1 in c:\\users\\venkat k pillai\\anaconda3\\lib\\site-packages (from transformers) (0.12.1)\n",
      "Requirement already satisfied: typing-extensions>=3.7.4.3 in c:\\users\\venkat k pillai\\anaconda3\\lib\\site-packages (from huggingface-hub<1.0,>=0.1.0->transformers) (3.7.4.3)\n",
      "Requirement already satisfied: pyparsing>=2.0.2 in c:\\users\\venkat k pillai\\anaconda3\\lib\\site-packages (from packaging>=20.0->transformers) (2.4.7)\n",
      "Requirement already satisfied: certifi>=2017.4.17 in c:\\users\\venkat k pillai\\anaconda3\\lib\\site-packages (from requests->transformers) (2020.12.5)\n",
      "Requirement already satisfied: urllib3<1.27,>=1.21.1 in c:\\users\\venkat k pillai\\anaconda3\\lib\\site-packages (from requests->transformers) (1.26.4)\n",
      "Requirement already satisfied: chardet<5,>=3.0.2 in c:\\users\\venkat k pillai\\anaconda3\\lib\\site-packages (from requests->transformers) (4.0.0)\n",
      "Requirement already satisfied: idna<3,>=2.5 in c:\\users\\venkat k pillai\\anaconda3\\lib\\site-packages (from requests->transformers) (2.10)\n"
     ]
    }
   ],
   "source": [
    "!pip install transformers\n"
   ]
  },
  {
   "cell_type": "code",
   "execution_count": 49,
   "id": "c34c5f32",
   "metadata": {},
   "outputs": [],
   "source": [
    "# This Python 3 environment comes with many helpful analytics libraries installed\n",
    "# It is defined by the kaggle/python Docker image: https://github.com/kaggle/docker-python\n",
    "# For example, here's several helpful packages to load\n",
    "\n",
    "import numpy as np # linear algebra\n",
    "import pandas as pd # data processing, CSV file I/O (e.g. pd.read_csv)\n",
    "import tensorflow as tf\n",
    "import matplotlib.pyplot as plt\n",
    "import tensorflow as tf\n",
    "import seaborn as sns\n",
    "from sklearn import metrics\n",
    "from keras.layers import LSTM, Dense, Bidirectional, Embedding, Flatten, SpatialDropout1D\n",
    "from keras.initializers import Constant\n",
    "from sklearn.model_selection import train_test_split\n",
    "from sklearn.metrics import plot_confusion_matrix\n",
    "from sklearn.metrics import confusion_matrix,classification_report\n",
    "from transformers import DistilBertTokenizerFast"
   ]
  },
  {
   "cell_type": "code",
   "execution_count": 28,
   "id": "32f7d4ea",
   "metadata": {},
   "outputs": [
    {
     "data": {
      "text/html": [
       "<div>\n",
       "<style scoped>\n",
       "    .dataframe tbody tr th:only-of-type {\n",
       "        vertical-align: middle;\n",
       "    }\n",
       "\n",
       "    .dataframe tbody tr th {\n",
       "        vertical-align: top;\n",
       "    }\n",
       "\n",
       "    .dataframe thead th {\n",
       "        text-align: right;\n",
       "    }\n",
       "</style>\n",
       "<table border=\"1\" class=\"dataframe\">\n",
       "  <thead>\n",
       "    <tr style=\"text-align: right;\">\n",
       "      <th></th>\n",
       "      <th>ID</th>\n",
       "      <th>comment</th>\n",
       "      <th>date</th>\n",
       "      <th>down</th>\n",
       "      <th>parent_comment</th>\n",
       "      <th>score</th>\n",
       "      <th>top</th>\n",
       "      <th>topic</th>\n",
       "      <th>user</th>\n",
       "      <th>label</th>\n",
       "    </tr>\n",
       "  </thead>\n",
       "  <tbody>\n",
       "    <tr>\n",
       "      <th>0</th>\n",
       "      <td>uid_590555</td>\n",
       "      <td>Well, let's be honest here, they don't actuall...</td>\n",
       "      <td>2015-04</td>\n",
       "      <td>0</td>\n",
       "      <td>They should shut the fuck up and let the commu...</td>\n",
       "      <td>2</td>\n",
       "      <td>2</td>\n",
       "      <td>starcitizen</td>\n",
       "      <td>Combat_Wombatz</td>\n",
       "      <td>0</td>\n",
       "    </tr>\n",
       "    <tr>\n",
       "      <th>1</th>\n",
       "      <td>uid_671762</td>\n",
       "      <td>Well, I didn't need evidence to believe in com...</td>\n",
       "      <td>2016-12</td>\n",
       "      <td>-1</td>\n",
       "      <td>You need evidence to kill people? I thought we...</td>\n",
       "      <td>6</td>\n",
       "      <td>-1</td>\n",
       "      <td>EnoughCommieSpam</td>\n",
       "      <td>starkadd</td>\n",
       "      <td>1</td>\n",
       "    </tr>\n",
       "    <tr>\n",
       "      <th>2</th>\n",
       "      <td>uid_519689</td>\n",
       "      <td>Who does an \"official promo\" in 360p?</td>\n",
       "      <td>2013-11</td>\n",
       "      <td>0</td>\n",
       "      <td>2014 BMW S1000R: Official Promo</td>\n",
       "      <td>3</td>\n",
       "      <td>3</td>\n",
       "      <td>motorcycles</td>\n",
       "      <td>phybere</td>\n",
       "      <td>0</td>\n",
       "    </tr>\n",
       "    <tr>\n",
       "      <th>3</th>\n",
       "      <td>uid_788362</td>\n",
       "      <td>Grotto koth was the best</td>\n",
       "      <td>2015-09</td>\n",
       "      <td>0</td>\n",
       "      <td>Not really that memorable lol if you want memo...</td>\n",
       "      <td>2</td>\n",
       "      <td>2</td>\n",
       "      <td>hcfactions</td>\n",
       "      <td>m0xyMC</td>\n",
       "      <td>1</td>\n",
       "    </tr>\n",
       "    <tr>\n",
       "      <th>4</th>\n",
       "      <td>uid_299252</td>\n",
       "      <td>Neal's back baby</td>\n",
       "      <td>2015-11</td>\n",
       "      <td>0</td>\n",
       "      <td>James Neal hit on Zach Parise</td>\n",
       "      <td>-5</td>\n",
       "      <td>-5</td>\n",
       "      <td>hockey</td>\n",
       "      <td>Somuch101</td>\n",
       "      <td>1</td>\n",
       "    </tr>\n",
       "  </tbody>\n",
       "</table>\n",
       "</div>"
      ],
      "text/plain": [
       "           ID                                            comment     date  \\\n",
       "0  uid_590555  Well, let's be honest here, they don't actuall...  2015-04   \n",
       "1  uid_671762  Well, I didn't need evidence to believe in com...  2016-12   \n",
       "2  uid_519689              Who does an \"official promo\" in 360p?  2013-11   \n",
       "3  uid_788362                           Grotto koth was the best  2015-09   \n",
       "4  uid_299252                                   Neal's back baby  2015-11   \n",
       "\n",
       "   down                                     parent_comment  score  top  \\\n",
       "0     0  They should shut the fuck up and let the commu...      2    2   \n",
       "1    -1  You need evidence to kill people? I thought we...      6   -1   \n",
       "2     0                    2014 BMW S1000R: Official Promo      3    3   \n",
       "3     0  Not really that memorable lol if you want memo...      2    2   \n",
       "4     0                      James Neal hit on Zach Parise     -5   -5   \n",
       "\n",
       "              topic            user  label  \n",
       "0       starcitizen  Combat_Wombatz      0  \n",
       "1  EnoughCommieSpam        starkadd      1  \n",
       "2       motorcycles         phybere      0  \n",
       "3        hcfactions          m0xyMC      1  \n",
       "4            hockey       Somuch101      1  "
      ]
     },
     "execution_count": 28,
     "metadata": {},
     "output_type": "execute_result"
    }
   ],
   "source": [
    "df_sarcasm = pd.read_csv('NLPMiniProject_data.csv')\n",
    "df_sarcasm.head()"
   ]
  },
  {
   "cell_type": "code",
   "execution_count": 29,
   "id": "4f917284",
   "metadata": {},
   "outputs": [
    {
     "name": "stdout",
     "output_type": "stream",
     "text": [
      "<class 'pandas.core.frame.DataFrame'>\n",
      "RangeIndex: 15000 entries, 0 to 14999\n",
      "Data columns (total 10 columns):\n",
      " #   Column          Non-Null Count  Dtype \n",
      "---  ------          --------------  ----- \n",
      " 0   ID              15000 non-null  object\n",
      " 1   comment         15000 non-null  object\n",
      " 2   date            15000 non-null  object\n",
      " 3   down            15000 non-null  int64 \n",
      " 4   parent_comment  15000 non-null  object\n",
      " 5   score           15000 non-null  int64 \n",
      " 6   top             15000 non-null  int64 \n",
      " 7   topic           15000 non-null  object\n",
      " 8   user            15000 non-null  object\n",
      " 9   label           15000 non-null  int64 \n",
      "dtypes: int64(4), object(6)\n",
      "memory usage: 1.1+ MB\n"
     ]
    }
   ],
   "source": [
    "df_sarcasm.info()"
   ]
  },
  {
   "cell_type": "code",
   "execution_count": 30,
   "id": "4fbecd7d",
   "metadata": {},
   "outputs": [
    {
     "data": {
      "text/plain": [
       "(15000, 10)"
      ]
     },
     "execution_count": 30,
     "metadata": {},
     "output_type": "execute_result"
    }
   ],
   "source": [
    "df_sarcasm.shape"
   ]
  },
  {
   "cell_type": "code",
   "execution_count": 51,
   "id": "b39bfa4f",
   "metadata": {},
   "outputs": [
    {
     "name": "stdout",
     "output_type": "stream",
     "text": [
      "Vocab length : 16188\n"
     ]
    }
   ],
   "source": [
    "X = df_sarcasm['comment']\n",
    "y = df_sarcasm['label']\n",
    "X_train,X_test,y_train,y_test = train_test_split(X,y,test_size=0.15,random_state=10)\n",
    "#tokenizer = DistilBertTokenizerFast.from_pretrained('distilbert-base-uncased')\n",
    "tokenizer = tf.keras.preprocessing.text.Tokenizer()\n",
    "tokenizer.fit_on_texts(X_train)\n",
    "print('Vocab length :',len(tokenizer.word_index)+1)"
   ]
  },
  {
   "cell_type": "code",
   "execution_count": 52,
   "id": "72a4e7a2",
   "metadata": {},
   "outputs": [],
   "source": [
    "def get_sequences(texts, tokenizer, train=True, max_seq_length=None):\n",
    "    sequences = tokenizer.texts_to_sequences(texts)\n",
    "    \n",
    "    if train == True:\n",
    "        max_seq_length = np.max(list(map(len, sequences)))\n",
    "    \n",
    "    sequences = tf.keras.preprocessing.sequence.pad_sequences(sequences, maxlen=max_seq_length, padding='post')\n",
    "    \n",
    "    return sequences"
   ]
  },
  {
   "cell_type": "code",
   "execution_count": 53,
   "id": "efb50f52",
   "metadata": {},
   "outputs": [],
   "source": [
    "X_train = get_sequences(X_train,tokenizer,train=True)\n",
    "X_test = get_sequences(X_test,tokenizer,train=False,max_seq_length=X_train.shape[1])"
   ]
  },
  {
   "cell_type": "code",
   "execution_count": 54,
   "id": "4913c1f7",
   "metadata": {},
   "outputs": [
    {
     "data": {
      "text/plain": [
       "array([[  90,   70,  351, ...,    0,    0,    0],\n",
       "       [  36, 1287,   31, ...,    0,    0,    0],\n",
       "       [ 134,   73,  324, ...,    0,    0,    0],\n",
       "       ...,\n",
       "       [  36,   30,   62, ...,    0,    0,    0],\n",
       "       [  30,   25,    3, ...,    0,    0,    0],\n",
       "       [   6, 1148,   63, ...,    0,    0,    0]])"
      ]
     },
     "execution_count": 54,
     "metadata": {},
     "output_type": "execute_result"
    }
   ],
   "source": [
    "X_train"
   ]
  },
  {
   "cell_type": "code",
   "execution_count": 55,
   "id": "cc6946be",
   "metadata": {},
   "outputs": [
    {
     "data": {
      "text/plain": [
       "(12750, 134)"
      ]
     },
     "execution_count": 55,
     "metadata": {},
     "output_type": "execute_result"
    }
   ],
   "source": [
    "X_train.shape"
   ]
  },
  {
   "cell_type": "code",
   "execution_count": 56,
   "id": "38b8e94b",
   "metadata": {},
   "outputs": [
    {
     "name": "stdout",
     "output_type": "stream",
     "text": [
      "Sequence length: 134\n"
     ]
    }
   ],
   "source": [
    "print(\"Sequence length:\", X_train.shape[1])"
   ]
  },
  {
   "cell_type": "code",
   "execution_count": 57,
   "id": "3ba9bf01",
   "metadata": {},
   "outputs": [
    {
     "data": {
      "text/plain": [
       "1    6380\n",
       "0    6370\n",
       "Name: label, dtype: int64"
      ]
     },
     "execution_count": 57,
     "metadata": {},
     "output_type": "execute_result"
    }
   ],
   "source": [
    "y_train.value_counts()"
   ]
  },
  {
   "cell_type": "code",
   "execution_count": 58,
   "id": "f10e7341",
   "metadata": {},
   "outputs": [],
   "source": [
    "inputs = tf.keras.Input(shape=(134,))\n",
    "x = tf.keras.layers.Embedding(input_dim=16188,output_dim=64)(inputs)\n",
    "x = tf.keras.layers.Flatten()(x)\n",
    "x = tf.keras.layers.Dense(128, activation='relu')(x)\n",
    "x = tf.keras.layers.Dense(128, activation='relu')(x)\n",
    "outputs = tf.keras.layers.Dense(1, activation='sigmoid')(x)\n",
    "model = tf.keras.Model(inputs=inputs, outputs=outputs)\n",
    "model.compile(optimizer='adam',loss='binary_crossentropy',metrics=['accuracy',tf.keras.metrics.AUC(name='auc')])"
   ]
  },
  {
   "cell_type": "code",
   "execution_count": 59,
   "id": "b43a806f",
   "metadata": {},
   "outputs": [
    {
     "name": "stdout",
     "output_type": "stream",
     "text": [
      "Model: \"model_1\"\n",
      "_________________________________________________________________\n",
      " Layer (type)                Output Shape              Param #   \n",
      "=================================================================\n",
      " input_2 (InputLayer)        [(None, 134)]             0         \n",
      "                                                                 \n",
      " embedding_1 (Embedding)     (None, 134, 64)           1036032   \n",
      "                                                                 \n",
      " flatten_1 (Flatten)         (None, 8576)              0         \n",
      "                                                                 \n",
      " dense_3 (Dense)             (None, 128)               1097856   \n",
      "                                                                 \n",
      " dense_4 (Dense)             (None, 128)               16512     \n",
      "                                                                 \n",
      " dense_5 (Dense)             (None, 1)                 129       \n",
      "                                                                 \n",
      "=================================================================\n",
      "Total params: 2,150,529\n",
      "Trainable params: 2,150,529\n",
      "Non-trainable params: 0\n",
      "_________________________________________________________________\n",
      "None\n"
     ]
    }
   ],
   "source": [
    "print(model.summary())"
   ]
  },
  {
   "cell_type": "code",
   "execution_count": 60,
   "id": "8a165495",
   "metadata": {},
   "outputs": [
    {
     "name": "stdout",
     "output_type": "stream",
     "text": [
      "Epoch 1/5\n",
      "319/319 [==============================] - 6s 17ms/step - loss: 0.6697 - accuracy: 0.5806 - auc: 0.6137 - val_loss: 0.6161 - val_accuracy: 0.6592 - val_auc: 0.7135\n",
      "Epoch 2/5\n",
      "319/319 [==============================] - 5s 16ms/step - loss: 0.4432 - accuracy: 0.7933 - auc: 0.8756 - val_loss: 0.7265 - val_accuracy: 0.6318 - val_auc: 0.6832\n",
      "Epoch 3/5\n",
      "319/319 [==============================] - 5s 16ms/step - loss: 0.1247 - accuracy: 0.9556 - auc: 0.9902 - val_loss: 1.0949 - val_accuracy: 0.6184 - val_auc: 0.6577\n",
      "Epoch 4/5\n",
      "319/319 [==============================] - 5s 16ms/step - loss: 0.0479 - accuracy: 0.9825 - auc: 0.9985 - val_loss: 1.4268 - val_accuracy: 0.6039 - val_auc: 0.6422\n"
     ]
    }
   ],
   "source": [
    "callback = tf.keras.callbacks.EarlyStopping(monitor='val_loss',patience=3,restore_best_weights=True)\n",
    "history = model.fit(X_train,y_train,batch_size=32,epochs=5,validation_split=0.2,callbacks=callback)"
   ]
  },
  {
   "cell_type": "code",
   "execution_count": 61,
   "id": "7203578b",
   "metadata": {},
   "outputs": [
    {
     "name": "stdout",
     "output_type": "stream",
     "text": [
      "Accuracy: 64.80%\n",
      "     AUC: 0.70970\n"
     ]
    }
   ],
   "source": [
    "results = model.evaluate(X_test,y_test,verbose=0)\n",
    "print(\"Accuracy: {:.2f}%\".format(results[1] * 100))\n",
    "print(\"     AUC: {:.5f}\".format(results[2]))"
   ]
  },
  {
   "cell_type": "code",
   "execution_count": 62,
   "id": "c877f54c",
   "metadata": {},
   "outputs": [
    {
     "name": "stderr",
     "output_type": "stream",
     "text": [
      "<ipython-input-62-8ec60c42573e>:1: DeprecationWarning: `np.int` is a deprecated alias for the builtin `int`. To silence this warning, use `int` by itself. Doing this will not modify any behavior and is safe. When replacing `np.int`, you may wish to use e.g. `np.int64` or `np.int32` to specify the precision. If you wish to review your current use, check the release note link for additional information.\n",
      "Deprecated in NumPy 1.20; for more details and guidance: https://numpy.org/devdocs/release/1.20.0-notes.html#deprecations\n",
      "  y_pred = np.squeeze(model.predict(X_test) >= 0.5).astype(np.int)\n"
     ]
    }
   ],
   "source": [
    "y_pred = np.squeeze(model.predict(X_test) >= 0.5).astype(np.int)\n",
    "cm = confusion_matrix(y_test, y_pred, labels=[0, 1])\n",
    "clr = classification_report(y_test, y_pred, labels=[0, 1], target_names=[\"No Sarcasm\", \"Sarcasm\"])"
   ]
  },
  {
   "cell_type": "code",
   "execution_count": 63,
   "id": "82759c6d",
   "metadata": {},
   "outputs": [
    {
     "data": {
      "image/png": "[encoded data removed]",
      "text/plain": [
       "<Figure size 432x432 with 1 Axes>"
      ]
     },
     "metadata": {
      "needs_background": "light"
     },
     "output_type": "display_data"
    },
    {
     "name": "stdout",
     "output_type": "stream",
     "text": [
      "Classification Report:\n",
      "----------------------\n",
      "               precision    recall  f1-score   support\n",
      "\n",
      "  No Sarcasm       0.62      0.74      0.67      1103\n",
      "     Sarcasm       0.69      0.56      0.62      1147\n",
      "\n",
      "    accuracy                           0.65      2250\n",
      "   macro avg       0.65      0.65      0.65      2250\n",
      "weighted avg       0.65      0.65      0.65      2250\n",
      "\n"
     ]
    }
   ],
   "source": [
    "plt.figure(figsize=(6, 6))\n",
    "sns.heatmap(cm, annot=True, fmt='g', vmin=0, cmap='Blues', cbar=False)\n",
    "plt.xticks(ticks=[0.5, 1.5], labels=[\"No Sarcasm\", \"Sarcasm\"])\n",
    "plt.yticks(ticks=[0.5, 1.5], labels=[\"No Sarcasm\", \"Sarcasm\"])\n",
    "plt.xlabel(\"Predicted\")\n",
    "plt.ylabel(\"Actual\")\n",
    "plt.title(\"Confusion Matrix\")\n",
    "plt.show()\n",
    "\n",
    "print(\"Classification Report:\\n----------------------\\n\", clr)"
   ]
  },
  {
   "cell_type": "code",
   "execution_count": 64,
   "id": "9ae8986a",
   "metadata": {},
   "outputs": [],
   "source": [
    "# https://www.kaggle.com/code/gcdatkin/news-headline-sarcasm-detection"
   ]
  },
  {
   "cell_type": "code",
   "execution_count": 65,
   "id": "6d0a0ed1",
   "metadata": {},
   "outputs": [],
   "source": [
    "\n",
    "#"
   ]
  },
  {
   "cell_type": "code",
   "execution_count": null,
   "id": "e46d0a30",
   "metadata": {},
   "outputs": [],
   "source": []
  }
 ],
 "metadata": {
  "kernelspec": {
   "display_name": "Python 3",
   "language": "python",
   "name": "python3"
  },
  "language_info": {
   "codemirror_mode": {
    "name": "ipython",
    "version": 3
   },
   "file_extension": ".py",
   "mimetype": "text/x-python",
   "name": "python",
   "nbconvert_exporter": "python",
   "pygments_lexer": "ipython3",
   "version": "3.8.8"
  }
 },
 "nbformat": 4,
 "nbformat_minor": 5
}
