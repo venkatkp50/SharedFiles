{
 "cells": [
  {
   "cell_type": "code",
   "execution_count": 30,
   "id": "31acf4b1",
   "metadata": {},
   "outputs": [],
   "source": [
    "import sklearn\n",
    "import tensorflow as tf\n",
    "import os,cv2\n",
    "import pandas as pd\n",
    "import numpy as np\n",
    "import seaborn as sns\n",
    "from matplotlib import pyplot as plt\n",
    "\n",
    "from PIL import Image\n",
    "import os, os.path\n",
    "from tensorflow.keras.preprocessing.image import ImageDataGenerator\n",
    "from sklearn.model_selection import train_test_split\n",
    "from tensorflow.keras.utils import to_categorical\n",
    "from tensorflow.keras import regularizers, optimizers,initializers\n",
    "from tensorflow.keras.layers import BatchNormalization,MaxPool2D\n",
    "from tensorflow.keras.models import Sequential,Model,load_model\n",
    "from tensorflow.keras.callbacks import EarlyStopping,ModelCheckpoint\n",
    "from tensorflow.keras.layers import Dense,Conv2D,MaxPooling2D,Dropout,Flatten,Input,Conv2DTranspose,concatenate,GlobalAveragePooling2D\n",
    "from sklearn.metrics import confusion_matrix\n",
    "from keras.applications.mobilenet import MobileNet, preprocess_input\n",
    "from tensorflow.keras.applications.mobilenet_v2 import MobileNetV2\n",
    "from keras.preprocessing.image import ImageDataGenerator,array_to_img, img_to_array, load_img\n",
    "import shutil"
   ]
  },
  {
   "cell_type": "code",
   "execution_count": 3,
   "id": "250c117d",
   "metadata": {},
   "outputs": [
    {
     "name": "stdout",
     "output_type": "stream",
     "text": [
      "WARNING:tensorflow:From <ipython-input-3-17bb7203622b>:1: is_gpu_available (from tensorflow.python.framework.test_util) is deprecated and will be removed in a future version.\n",
      "Instructions for updating:\n",
      "Use `tf.config.list_physical_devices('GPU')` instead.\n"
     ]
    },
    {
     "data": {
      "text/plain": [
       "False"
      ]
     },
     "execution_count": 3,
     "metadata": {},
     "output_type": "execute_result"
    }
   ],
   "source": [
    "tf.test.is_gpu_available()"
   ]
  },
  {
   "cell_type": "code",
   "execution_count": 4,
   "id": "00a89194",
   "metadata": {},
   "outputs": [],
   "source": [
    "from zipfile import ZipFile\n",
    "\n",
    "with ZipFile('train.zip','a') as z:\n",
    "    z.extractall()"
   ]
  },
  {
   "cell_type": "code",
   "execution_count": 5,
   "id": "beb9b329",
   "metadata": {},
   "outputs": [
    {
     "data": {
      "text/html": [
       "<div>\n",
       "<style scoped>\n",
       "    .dataframe tbody tr th:only-of-type {\n",
       "        vertical-align: middle;\n",
       "    }\n",
       "\n",
       "    .dataframe tbody tr th {\n",
       "        vertical-align: top;\n",
       "    }\n",
       "\n",
       "    .dataframe thead th {\n",
       "        text-align: right;\n",
       "    }\n",
       "</style>\n",
       "<table border=\"1\" class=\"dataframe\">\n",
       "  <thead>\n",
       "    <tr style=\"text-align: right;\">\n",
       "      <th></th>\n",
       "      <th>file_id</th>\n",
       "      <th>label</th>\n",
       "    </tr>\n",
       "  </thead>\n",
       "  <tbody>\n",
       "    <tr>\n",
       "      <th>0</th>\n",
       "      <td>0</td>\n",
       "      <td>0</td>\n",
       "    </tr>\n",
       "    <tr>\n",
       "      <th>1</th>\n",
       "      <td>1</td>\n",
       "      <td>0</td>\n",
       "    </tr>\n",
       "    <tr>\n",
       "      <th>2</th>\n",
       "      <td>2</td>\n",
       "      <td>0</td>\n",
       "    </tr>\n",
       "    <tr>\n",
       "      <th>3</th>\n",
       "      <td>3</td>\n",
       "      <td>0</td>\n",
       "    </tr>\n",
       "    <tr>\n",
       "      <th>4</th>\n",
       "      <td>4</td>\n",
       "      <td>0</td>\n",
       "    </tr>\n",
       "  </tbody>\n",
       "</table>\n",
       "</div>"
      ],
      "text/plain": [
       "   file_id  label\n",
       "0        0      0\n",
       "1        1      0\n",
       "2        2      0\n",
       "3        3      0\n",
       "4        4      0"
      ]
     },
     "execution_count": 5,
     "metadata": {},
     "output_type": "execute_result"
    }
   ],
   "source": [
    "train_data = pd.read_csv('train.csv')\n",
    "train_data.head()"
   ]
  },
  {
   "cell_type": "code",
   "execution_count": 6,
   "id": "64845d59",
   "metadata": {},
   "outputs": [
    {
     "data": {
      "text/plain": [
       "(1709, 2)"
      ]
     },
     "execution_count": 6,
     "metadata": {},
     "output_type": "execute_result"
    }
   ],
   "source": [
    "train_data.shape"
   ]
  },
  {
   "cell_type": "code",
   "execution_count": 7,
   "id": "20ebc06b",
   "metadata": {},
   "outputs": [],
   "source": [
    "def getFileName(filename):\n",
    "    field_id = filename.rsplit('\\\\',1)[1]\n",
    "    field_id = field_id.rsplit('.',1)[0]\n",
    "    return field_id\n",
    "    "
   ]
  },
  {
   "cell_type": "code",
   "execution_count": 8,
   "id": "24a5ede3",
   "metadata": {},
   "outputs": [],
   "source": [
    "def target_label(filename):\n",
    "    field_id = filename.rsplit('\\\\',1)[1]\n",
    "    field_id = field_id.rsplit('.',1)[0]\n",
    "    x =  int(train_data[train_data['file_id'] == int(field_id)]['label'])\n",
    "    return x\n",
    "    \n",
    "    #return int(train_data[train_data['file_id'] == int(field_id)]['label'])\n",
    "   "
   ]
  },
  {
   "cell_type": "code",
   "execution_count": 9,
   "id": "a7089fcd",
   "metadata": {},
   "outputs": [
    {
     "name": "stderr",
     "output_type": "stream",
     "text": [
      "C:\\Users\\Venkat K Pillai\\anaconda3\\lib\\site-packages\\seaborn\\_decorators.py:36: FutureWarning: Pass the following variable as a keyword arg: x. From version 0.12, the only valid positional argument will be `data`, and passing other arguments without an explicit keyword will result in an error or misinterpretation.\n",
      "  warnings.warn(\n"
     ]
    },
    {
     "data": {
      "text/plain": [
       "Text(1, 950, '949')"
      ]
     },
     "execution_count": 9,
     "metadata": {},
     "output_type": "execute_result"
    },
    {
     "data": {
      "image/png": "[encoded data removed]",
      "text/plain": [
       "<Figure size 432x288 with 1 Axes>"
      ]
     },
     "metadata": {
      "needs_background": "light"
     },
     "output_type": "display_data"
    }
   ],
   "source": [
    "sns.countplot(train_data['label'])\n",
    "plt.xlabel('Fake vs Real')\n",
    "plt.text(x=0,y=770,s=train_data.value_counts('label')[0])\n",
    "plt.text(x=1,y=950,s=train_data.value_counts('label')[1])"
   ]
  },
  {
   "cell_type": "markdown",
   "id": "b0833183",
   "metadata": {},
   "source": [
    " Merge fake and real images folder"
   ]
  },
  {
   "cell_type": "code",
   "execution_count": null,
   "id": "ed89ea85",
   "metadata": {},
   "outputs": [],
   "source": [
    "\n"
   ]
  },
  {
   "cell_type": "code",
   "execution_count": 10,
   "id": "c468eb22",
   "metadata": {},
   "outputs": [],
   "source": [
    "def addAgumentedData(label,img):\n",
    "    label_list = []\n",
    "    file_list  = []\n",
    "    datagen = ImageDataGenerator(rotation_range = 40,shear_range = 0.2,zoom_range = 0.2,horizontal_flip = True,brightness_range = (0.5, 1.5))\n",
    "    img = img\n",
    "    x = img_to_array(img)\n",
    "    x = x.reshape((1, ) + x.shape) \n",
    "    i = 0\n",
    "    for batch in datagen.flow(x, batch_size = 1,save_to_dir ='preview',save_prefix ='image', save_format ='jpg'):\n",
    "        i += 1   \n",
    "        if i > 3:\n",
    "            break\n",
    "    allfiles = os.listdir('preview')\n",
    " \n",
    "    for f in allfiles:\n",
    "        file_list.append(f)\n",
    "        label_list.append(label)\n",
    "        shutil.move('./preview/' + f, './train/' + f)\n",
    "    return file_list,label_list"
   ]
  },
  {
   "cell_type": "code",
   "execution_count": 11,
   "id": "4544609b",
   "metadata": {},
   "outputs": [],
   "source": [
    "#Load images to system"
   ]
  },
  {
   "cell_type": "code",
   "execution_count": 16,
   "id": "5f3e7eff",
   "metadata": {},
   "outputs": [],
   "source": [
    "def load_data(mode):\n",
    "    count = 0\n",
    "    if(mode == \"Train\"):\n",
    "        images_folder = \"train\"\n",
    "        filenames = [os.path.join(images_folder,file) for file in os.listdir(images_folder) if file.endswith(\".jpg\")]\n",
    "        images = []\n",
    "        labels = []\n",
    "        global agumented_images\n",
    "        agumented_images = []\n",
    "        global agumented_labels\n",
    "        agumented_labels = []\n",
    "        for f in filenames:\n",
    "            img = Image.open(f)\n",
    "            label = target_label(f)\n",
    "            #f1,l1 = addAgumentedData(label,img)\n",
    "            #agumented_images.extend(f1)\n",
    "            #agumented_labels.extend(l1)\n",
    "                #train_data = train_data.append({'file_id':f1, 'label':l1}, ignore_index=True)\n",
    "            # Resize images to 256x256.\n",
    "            img = img.resize((256, 256), Image.ANTIALIAS)\n",
    "            img = np.array(img, dtype=np.float32)\n",
    "            # Normalize the images.\n",
    "            img = img / 255.\n",
    "            images.append(img)\n",
    "            #label = arget_label(f)\n",
    "            #addAgumentedData(f,label)\n",
    "            #label = np.expand_dims(label, axis=0)\n",
    "            #label = label / 255.\n",
    "            labels.append(label)\n",
    "        images = np.array(images)\n",
    "        labels = np.array(labels)\n",
    "        return images, labels\n",
    "    \n",
    "    if mode == \"Test\":\n",
    "        images_folder = \"test\"\n",
    "        labels_folder = \"test_label\"\n",
    "        if not os.path.isdir(\"test_label\"):\n",
    "            os.makedirs(\"test_label\")\n",
    "        filenames = [os.path.join(images_folder,file) for file in os.listdir(images_folder) if file.endswith(\".jpg\")]\n",
    "        images = []\n",
    "        label_name = []\n",
    "        height = []\n",
    "        width = []\n",
    "        for f in filenames:\n",
    "            img = Image.open(f)\n",
    "            width.append(img.size[0])\n",
    "            height.append(img.size[1])\n",
    "            img = img.resize((128, 128), Image.ANTIALIAS)\n",
    "            img = np.array(img, dtype=np.float32)\n",
    "            img = img / 255.\n",
    "            images.append(img)\n",
    "            #id = re.search(\"Unet_usecase/test_raw/(.+).jpg\", f).group(1)\n",
    "            #label_file = labels_folder+\"/\"+id+\".jpg\"\n",
    "            label_name.append(getFileName(f))\n",
    "        images = np.array(images)\n",
    "        label_name = np.array(label_name)\n",
    "        height = np.array(height)\n",
    "        width = np.array(width)\n",
    "        return images, label_name, height, width"
   ]
  },
  {
   "cell_type": "code",
   "execution_count": 17,
   "id": "44059776",
   "metadata": {},
   "outputs": [],
   "source": [
    "def unet_model():\n",
    "    \n",
    "    model = Sequential()\n",
    "    model.add(Conv2D(input_shape=(128,128,3),filters=64,kernel_size=(3,3),padding=\"same\", activation=\"relu\"))\n",
    "    model.add(Conv2D(filters=64,kernel_size=(3,3),padding=\"same\", activation=\"relu\"))\n",
    "    model.add(MaxPool2D(pool_size=(2,2),strides=(2,2)))\n",
    "    model.add(Conv2D(filters=128, kernel_size=(3,3), padding=\"same\", activation=\"relu\"))\n",
    "    model.add(Conv2D(filters=128, kernel_size=(3,3), padding=\"same\", activation=\"relu\"))\n",
    "    model.add(MaxPool2D(pool_size=(2,2),strides=(2,2)))\n",
    "    model.add(Conv2D(filters=256, kernel_size=(3,3), padding=\"same\", activation=\"relu\"))\n",
    "    model.add(Conv2D(filters=256, kernel_size=(3,3), padding=\"same\", activation=\"relu\"))\n",
    "    model.add(Conv2D(filters=256, kernel_size=(3,3), padding=\"same\", activation=\"relu\"))\n",
    "    model.add(MaxPool2D(pool_size=(2,2),strides=(2,2)))\n",
    "    model.add(Conv2D(filters=512, kernel_size=(3,3), padding=\"same\", activation=\"relu\"))\n",
    "    model.add(Conv2D(filters=512, kernel_size=(3,3), padding=\"same\", activation=\"relu\"))\n",
    "    model.add(Conv2D(filters=512, kernel_size=(3,3), padding=\"same\", activation=\"relu\"))\n",
    "    model.add(MaxPool2D(pool_size=(2,2),strides=(2,2)))\n",
    "    model.add(Conv2D(filters=512, kernel_size=(3,3), padding=\"same\", activation=\"relu\"))\n",
    "    model.add(Conv2D(filters=512, kernel_size=(3,3), padding=\"same\", activation=\"relu\"))\n",
    "    model.add(Conv2D(filters=512, kernel_size=(3,3), padding=\"same\", activation=\"relu\"))\n",
    "    model.add(MaxPool2D(pool_size=(2,2),strides=(2,2),name='vgg16'))\n",
    "    model.add(Flatten(name='flatten'))\n",
    "    model.add(Dense(256, activation='relu', name='fc1'))\n",
    "    model.add(Dense(128, activation='relu', name='fc2'))\n",
    "    model.add(Dense(2, activation='sigmoid', name='output'))\n",
    "    return model\n",
    "\n"
   ]
  },
  {
   "cell_type": "code",
   "execution_count": 18,
   "id": "a43b5504",
   "metadata": {},
   "outputs": [],
   "source": [
    "\n",
    "#images, labels = load_data(mode=\"Train\")\n"
   ]
  },
  {
   "cell_type": "code",
   "execution_count": 19,
   "id": "6dff9254",
   "metadata": {},
   "outputs": [
    {
     "data": {
      "text/plain": [
       "(1709, 1709)"
      ]
     },
     "execution_count": 19,
     "metadata": {},
     "output_type": "execute_result"
    }
   ],
   "source": [
    "len(images),len(labels)"
   ]
  },
  {
   "cell_type": "code",
   "execution_count": 22,
   "id": "4f53a5c5",
   "metadata": {},
   "outputs": [
    {
     "name": "stdout",
     "output_type": "stream",
     "text": [
      "Model: \"sequential_1\"\n",
      "_________________________________________________________________\n",
      " Layer (type)                Output Shape              Param #   \n",
      "=================================================================\n",
      " conv2d_2 (Conv2D)           (None, 128, 128, 64)      1792      \n",
      "                                                                 \n",
      " conv2d_3 (Conv2D)           (None, 128, 128, 64)      36928     \n",
      "                                                                 \n",
      " max_pooling2d (MaxPooling2D  (None, 64, 64, 64)       0         \n",
      " )                                                               \n",
      "                                                                 \n",
      " conv2d_4 (Conv2D)           (None, 64, 64, 128)       73856     \n",
      "                                                                 \n",
      " conv2d_5 (Conv2D)           (None, 64, 64, 128)       147584    \n",
      "                                                                 \n",
      " max_pooling2d_1 (MaxPooling  (None, 32, 32, 128)      0         \n",
      " 2D)                                                             \n",
      "                                                                 \n",
      " conv2d_6 (Conv2D)           (None, 32, 32, 256)       295168    \n",
      "                                                                 \n",
      " conv2d_7 (Conv2D)           (None, 32, 32, 256)       590080    \n",
      "                                                                 \n",
      " conv2d_8 (Conv2D)           (None, 32, 32, 256)       590080    \n",
      "                                                                 \n",
      " max_pooling2d_2 (MaxPooling  (None, 16, 16, 256)      0         \n",
      " 2D)                                                             \n",
      "                                                                 \n",
      " conv2d_9 (Conv2D)           (None, 16, 16, 512)       1180160   \n",
      "                                                                 \n",
      " conv2d_10 (Conv2D)          (None, 16, 16, 512)       2359808   \n",
      "                                                                 \n",
      " conv2d_11 (Conv2D)          (None, 16, 16, 512)       2359808   \n",
      "                                                                 \n",
      " max_pooling2d_3 (MaxPooling  (None, 8, 8, 512)        0         \n",
      " 2D)                                                             \n",
      "                                                                 \n",
      " conv2d_12 (Conv2D)          (None, 8, 8, 512)         2359808   \n",
      "                                                                 \n",
      " conv2d_13 (Conv2D)          (None, 8, 8, 512)         2359808   \n",
      "                                                                 \n",
      " conv2d_14 (Conv2D)          (None, 8, 8, 512)         2359808   \n",
      "                                                                 \n",
      " vgg16 (MaxPooling2D)        (None, 4, 4, 512)         0         \n",
      "                                                                 \n",
      " flatten (Flatten)           (None, 8192)              0         \n",
      "                                                                 \n",
      " fc1 (Dense)                 (None, 256)               2097408   \n",
      "                                                                 \n",
      " fc2 (Dense)                 (None, 128)               32896     \n",
      "                                                                 \n",
      " output (Dense)              (None, 2)                 258       \n",
      "                                                                 \n",
      "=================================================================\n",
      "Total params: 16,845,250\n",
      "Trainable params: 16,845,250\n",
      "Non-trainable params: 0\n",
      "_________________________________________________________________\n",
      "None\n"
     ]
    }
   ],
   "source": [
    "model = unet_model()\n",
    "print(model.summary())"
   ]
  },
  {
   "cell_type": "code",
   "execution_count": null,
   "id": "ae6f16ed",
   "metadata": {},
   "outputs": [],
   "source": []
  },
  {
   "cell_type": "code",
   "execution_count": 23,
   "id": "b5c01880",
   "metadata": {},
   "outputs": [],
   "source": [
    "img_size_h = 128\n",
    "img_size_w = 128\n",
    "\n",
    "X = np.ndarray(shape=(len(images),img_size_h,img_size_w,3), dtype=np.int32)\n",
    "X = X/255.\n",
    "X = X.reshape(-1, 128, 128, 3)\n",
    "y = np.array(labels)\n",
    "X_train,X_test,y_train,y_test = train_test_split(X,y,test_size=0.2,random_state=10) \n"
   ]
  },
  {
   "cell_type": "code",
   "execution_count": 24,
   "id": "6c0c01ff",
   "metadata": {},
   "outputs": [
    {
     "name": "stdout",
     "output_type": "stream",
     "text": [
      "(1367, 128, 128, 3)\n",
      "(1367,)\n",
      "(342, 128, 128, 3)\n",
      "(342,)\n"
     ]
    }
   ],
   "source": [
    "\n",
    "print(X_train.shape)\n",
    "print(y_train.shape)\n",
    "print(X_test.shape)\n",
    "print(y_test.shape)"
   ]
  },
  {
   "cell_type": "code",
   "execution_count": 32,
   "id": "1dea791a",
   "metadata": {},
   "outputs": [],
   "source": [
    "callbacks_list = [\n",
    "    EarlyStopping(monitor='val_loss', patience=10),\n",
    "    ModelCheckpoint(filepath='model_checkpoint.hdf5', monitor='val_loss', save_best_only=True, mode ='max'),\n",
    "]"
   ]
  },
  {
   "cell_type": "code",
   "execution_count": 33,
   "id": "d26022c0",
   "metadata": {},
   "outputs": [],
   "source": [
    "epochs = 30\n",
    "batch_size = 100\n",
    "#early_stopping = EarlyStopping(monitor='accuracy',min_delta=0,patience=2,verbose=0, mode='auto')\n",
    "#history = "
   ]
  },
  {
   "cell_type": "code",
   "execution_count": null,
   "id": "d6de5af9",
   "metadata": {},
   "outputs": [],
   "source": [
    "model.compile(loss=\"sparse_categorical_crossentropy\", optimizer=\"adam\", metrics=\"accuracy\")\n",
    "\n",
    "history = model.fit(X_train, y_train, batch_size = 100, epochs =5 ,validation_data = (X_test, y_test),callbacks=callbacks_list)"
   ]
  },
  {
   "cell_type": "code",
   "execution_count": 28,
   "id": "6d7b061f",
   "metadata": {},
   "outputs": [
    {
     "name": "stdout",
     "output_type": "stream",
     "text": [
      "11/11 [==============================] - 10s 902ms/step - loss: 0.6886 - accuracy: 0.5673\n"
     ]
    },
    {
     "data": {
      "text/plain": [
       "[0.6885614395141602, 0.567251443862915]"
      ]
     },
     "execution_count": 28,
     "metadata": {},
     "output_type": "execute_result"
    }
   ],
   "source": [
    "#model.evaluate(X_test,y_test)\n"
   ]
  },
  {
   "cell_type": "code",
   "execution_count": 89,
   "id": "e1488eef",
   "metadata": {},
   "outputs": [
    {
     "name": "stdout",
     "output_type": "stream",
     "text": [
      "11/11 [==============================] - 2s 183ms/step - loss: 0.6882 - accuracy: 0.5673\n"
     ]
    },
    {
     "data": {
      "text/plain": [
       "[0.6882418990135193, 0.567251443862915]"
      ]
     },
     "execution_count": 89,
     "metadata": {},
     "output_type": "execute_result"
    }
   ],
   "source": [
    "model.evaluate(X_test,y_test)"
   ]
  },
  {
   "cell_type": "code",
   "execution_count": null,
   "id": "871f217a",
   "metadata": {},
   "outputs": [],
   "source": []
  },
  {
   "cell_type": "code",
   "execution_count": 90,
   "id": "5de96080",
   "metadata": {},
   "outputs": [
    {
     "name": "stderr",
     "output_type": "stream",
     "text": [
      "A subdirectory or file -p already exists.\n",
      "Error occurred while processing: -p.\n",
      "A subdirectory or file saved_model already exists.\n",
      "Error occurred while processing: saved_model.\n"
     ]
    }
   ],
   "source": [
    "!mkdir -p saved_model\n",
    "model.save('saved_model/FakeOrReal_trained_model.h5')"
   ]
  },
  {
   "cell_type": "code",
   "execution_count": 91,
   "id": "0f169e81",
   "metadata": {},
   "outputs": [],
   "source": [
    "#trained_model = tf.keras.models.load_model('saved_model/FakeOrReal_trained_model.h5')\n",
    "#trained_model.set_weights(trained_model.get_weights())"
   ]
  },
  {
   "cell_type": "code",
   "execution_count": 92,
   "id": "8196961c",
   "metadata": {},
   "outputs": [],
   "source": [
    "loaded_model = load_model(\"saved_model/FakeOrReal_trained_model.h5\")\n",
    "loaded_model.set_weights(loaded_model.get_weights())"
   ]
  },
  {
   "cell_type": "code",
   "execution_count": 93,
   "id": "aabb1e18",
   "metadata": {},
   "outputs": [],
   "source": [
    "images, label_names, height, width = load_data(mode=\"Test\")\n",
    "label_predict = []\n",
    "label_predict = np.argmax(loaded_model.predict(images), axis=-1)"
   ]
  },
  {
   "cell_type": "code",
   "execution_count": 94,
   "id": "cba1549f",
   "metadata": {},
   "outputs": [
    {
     "data": {
      "text/plain": [
       "332"
      ]
     },
     "execution_count": 94,
     "metadata": {},
     "output_type": "execute_result"
    }
   ],
   "source": [
    "len(label_predict)"
   ]
  },
  {
   "cell_type": "code",
   "execution_count": 95,
   "id": "b5107bea",
   "metadata": {},
   "outputs": [
    {
     "data": {
      "text/html": [
       "<div>\n",
       "<style scoped>\n",
       "    .dataframe tbody tr th:only-of-type {\n",
       "        vertical-align: middle;\n",
       "    }\n",
       "\n",
       "    .dataframe tbody tr th {\n",
       "        vertical-align: top;\n",
       "    }\n",
       "\n",
       "    .dataframe thead th {\n",
       "        text-align: right;\n",
       "    }\n",
       "</style>\n",
       "<table border=\"1\" class=\"dataframe\">\n",
       "  <thead>\n",
       "    <tr style=\"text-align: right;\">\n",
       "      <th></th>\n",
       "      <th>file_id</th>\n",
       "      <th>label</th>\n",
       "    </tr>\n",
       "  </thead>\n",
       "  <tbody>\n",
       "    <tr>\n",
       "      <th>0</th>\n",
       "      <td>0</td>\n",
       "      <td>1</td>\n",
       "    </tr>\n",
       "    <tr>\n",
       "      <th>1</th>\n",
       "      <td>1</td>\n",
       "      <td>1</td>\n",
       "    </tr>\n",
       "    <tr>\n",
       "      <th>2</th>\n",
       "      <td>10</td>\n",
       "      <td>1</td>\n",
       "    </tr>\n",
       "    <tr>\n",
       "      <th>3</th>\n",
       "      <td>100</td>\n",
       "      <td>1</td>\n",
       "    </tr>\n",
       "    <tr>\n",
       "      <th>4</th>\n",
       "      <td>101</td>\n",
       "      <td>1</td>\n",
       "    </tr>\n",
       "    <tr>\n",
       "      <th>...</th>\n",
       "      <td>...</td>\n",
       "      <td>...</td>\n",
       "    </tr>\n",
       "    <tr>\n",
       "      <th>327</th>\n",
       "      <td>95</td>\n",
       "      <td>1</td>\n",
       "    </tr>\n",
       "    <tr>\n",
       "      <th>328</th>\n",
       "      <td>96</td>\n",
       "      <td>0</td>\n",
       "    </tr>\n",
       "    <tr>\n",
       "      <th>329</th>\n",
       "      <td>97</td>\n",
       "      <td>0</td>\n",
       "    </tr>\n",
       "    <tr>\n",
       "      <th>330</th>\n",
       "      <td>98</td>\n",
       "      <td>1</td>\n",
       "    </tr>\n",
       "    <tr>\n",
       "      <th>331</th>\n",
       "      <td>99</td>\n",
       "      <td>0</td>\n",
       "    </tr>\n",
       "  </tbody>\n",
       "</table>\n",
       "<p>332 rows × 2 columns</p>\n",
       "</div>"
      ],
      "text/plain": [
       "    file_id  label\n",
       "0         0      1\n",
       "1         1      1\n",
       "2        10      1\n",
       "3       100      1\n",
       "4       101      1\n",
       "..      ...    ...\n",
       "327      95      1\n",
       "328      96      0\n",
       "329      97      0\n",
       "330      98      1\n",
       "331      99      0\n",
       "\n",
       "[332 rows x 2 columns]"
      ]
     },
     "execution_count": 95,
     "metadata": {},
     "output_type": "execute_result"
    }
   ],
   "source": [
    "df_output = pd.DataFrame({'file_id':label_names,'label':label_predict})\n",
    "df_output"
   ]
  },
  {
   "cell_type": "code",
   "execution_count": 96,
   "id": "120239f4",
   "metadata": {},
   "outputs": [
    {
     "data": {
      "text/plain": [
       "0    166\n",
       "1    166\n",
       "Name: label, dtype: int64"
      ]
     },
     "execution_count": 96,
     "metadata": {},
     "output_type": "execute_result"
    }
   ],
   "source": [
    "df_output['label'].value_counts()"
   ]
  },
  {
   "cell_type": "code",
   "execution_count": 97,
   "id": "a57edecd",
   "metadata": {},
   "outputs": [],
   "source": [
    "df_output.to_csv('venkat_submission.csv')"
   ]
  },
  {
   "cell_type": "code",
   "execution_count": null,
   "id": "7774dc5e",
   "metadata": {},
   "outputs": [],
   "source": []
  },
  {
   "cell_type": "code",
   "execution_count": null,
   "id": "36f730de",
   "metadata": {},
   "outputs": [],
   "source": []
  }
 ],
 "metadata": {
  "kernelspec": {
   "display_name": "Python 3",
   "language": "python",
   "name": "python3"
  },
  "language_info": {
   "codemirror_mode": {
    "name": "ipython",
    "version": 3
   },
   "file_extension": ".py",
   "mimetype": "text/x-python",
   "name": "python",
   "nbconvert_exporter": "python",
   "pygments_lexer": "ipython3",
   "version": "3.8.8"
  }
 },
 "nbformat": 4,
 "nbformat_minor": 5
}
